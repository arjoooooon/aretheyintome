{
 "cells": [
  {
   "cell_type": "code",
   "execution_count": 18,
   "metadata": {},
   "outputs": [],
   "source": [
    "import cohere\n",
    "\n",
    "# KEY: IDe9sxtoBbwIUzsrdF3r85Q8lXuA7YlhQi3CKx35\n",
    "api_key = 'IDe9sxtoBbwIUzsrdF3r85Q8lXuA7YlhQi3CKx35'\n",
    "co = cohere.Client(api_key)\n",
    "\n",
    "\n",
    "def generate_text(user_prompt):\n",
    "    response = co.generate(\n",
    "        model='command-xlarge-nightly',\n",
    "        num_generations=2, \n",
    "        prompt= user_prompt,\n",
    "        max_tokens=300,\n",
    "        temperature=0.9,\n",
    "        k=0,\n",
    "        p=0.75,\n",
    "        frequency_penalty=0,\n",
    "        presence_penalty=0,\n",
    "        stop_sequences=[],\n",
    "        return_likelihoods='NONE')\n",
    "    return response.generations[0].text"
   ]
  },
  {
   "cell_type": "code",
   "execution_count": 6,
   "metadata": {},
   "outputs": [
    {
     "data": {
      "text/plain": [
       "'\\n\\nThe text sounds sad because the person speaking it is expressing that they are hopeless and do not see any meaning in life.'"
      ]
     },
     "execution_count": 6,
     "metadata": {},
     "output_type": "execute_result"
    }
   ],
   "source": [
    "\n",
    "text =\"I don't see the point of life anymore\"\n",
    "emotion = \"sad\"\n",
    "generate_text(f\"Does the following text sound {emotion}: '{text}'?\")\n",
    "\n"
   ]
  },
  {
   "cell_type": "code",
   "execution_count": 21,
   "metadata": {},
   "outputs": [
    {
     "data": {
      "text/plain": [
       "\"\\nTEEN 1: Hey, you. I know you're out there somewhere. I can feel you smiling at me.\\n\\nTEEN 2: I am! I can't stop thinking about you. I'm so glad we met.\\n\\nTEEN 1: Me too! I feel like I've known you forever. I can't wait to see you again.\\n\\nTEEN 2: Me too! I'm counting down the days until I see you again.\\n\\nTEEN 1: So am I! I love you.\""
      ]
     },
     "execution_count": 21,
     "metadata": {},
     "output_type": "execute_result"
    }
   ],
   "source": [
    "text = \"generate text messages between teens who are flirting\"\n",
    "generate_text(text)"
   ]
  },
  {
   "cell_type": "code",
   "execution_count": 7,
   "metadata": {},
   "outputs": [
    {
     "name": "stdout",
     "output_type": "stream",
     "text": [
      "[Classification<prediction: \"Change account settings\", confidence: 0.9848989, labels: {'Cancelling coverage': LabelPrediction(confidence=0.013387484), 'Change account settings': LabelPrediction(confidence=0.9848989), 'Filing a claim and viewing status': LabelPrediction(confidence=0.00034971524), 'Finding policy details': LabelPrediction(confidence=0.0013638533)}>, Classification<prediction: \"Finding policy details\", confidence: 0.82481486, labels: {'Cancelling coverage': LabelPrediction(confidence=0.05397479), 'Change account settings': LabelPrediction(confidence=0.07790726), 'Filing a claim and viewing status': LabelPrediction(confidence=0.04330309), 'Finding policy details': LabelPrediction(confidence=0.82481486)}>]\n"
     ]
    }
   ],
   "source": [
    "from cohere.responses.classify import Example\n",
    "\n",
    "examples=[\n",
    "  Example(\"How do I find my insurance policy?\", \"Finding policy details\"),\n",
    "  Example(\"How do I download a copy of my insurance policy?\", \"Finding policy details\"),\n",
    "  Example(\"How do I find my policy effective date?\", \"Finding policy details\"),\n",
    "  Example(\"When does my insurance policy end?\", \"Finding policy details\"),\n",
    "  Example(\"Could you please tell me the date my policy becomes effective?\", \"Finding policy details\"),\n",
    "  Example(\"How do I sign up for electronic filing?\", \"Change account settings\"),\n",
    "  Example(\"How do I change my policy?\", \"Change account settings\"),\n",
    "  Example(\"How do I sign up for direct deposit?\", \"Change account settings\"),\n",
    "  Example(\"I want direct deposit. Can you help with that?\", \"Change account settings\"),\n",
    "  Example(\"Could you deposit money into my account rather than mailing me a physical cheque?\", \"Change account settings\"),\n",
    "  Example(\"How do I file an insurance claim?\", \"Filing a claim and viewing status\"),\n",
    "  Example(\"How do I file a reimbursement claim?\", \"Filing a claim and viewing status\"),\n",
    "  Example(\"How do I check my claim status?\", \"Filing a claim and viewing status\"),\n",
    "  Example(\"When will my claim be reimbursed?\", \"Filing a claim and viewing status\"),\n",
    "  Example(\"I filed my claim 2 weeks ago but I still haven't received a deposit for it.\", \"Filing a claim and viewing status\"),\n",
    "  Example(\"I want to cancel my policy immediately! This is nonsense.\", \"Cancelling coverage\"),\n",
    "  Example(\"Could you please help my end my insurance coverage? Thank you.\", \"Cancelling coverage\"),\n",
    "  Example(\"Your service sucks. I'm switching providers. Cancel my coverage.\", \"Cancelling coverage\"),\n",
    "  Example(\"Hello there! How do I cancel my coverage?\", \"Cancelling coverage\"),\n",
    "  Example(\"How do I delete my account?\", \"Cancelling coverage\")\n",
    "]\n",
    "inputs=[\n",
    "  \"I want to change my password\",\n",
    "  \"Does my policy cover prescription medication?\"\n",
    "]\n",
    "\n",
    "response = co.classify(\n",
    "  inputs=inputs,\n",
    "  examples=examples,\n",
    ")\n",
    "print(response)"
   ]
  },
  {
   "cell_type": "code",
   "execution_count": 8,
   "metadata": {},
   "outputs": [],
   "source": [
    "#testing movie conversations\n",
    "conversations = [\n",
    "\"Noah: Would you just stay with me? Stay with you? What for? Look at us, we\\'re already fighting. \\nAllie: Well, that\\'s what we do. We fight... You tell me when I am being an arrogant son of a bitch and I tell you when you are a pain in the ass. Which you are, 99% of the time. I\\'m not afraid to hurt your feelings. You have like a 2-second rebound rate and then you\\'re back doing the next pain-in-the-ass thing.\\n\",\n",
    "\n",
    "\"Jacob: You\\'re a great girl, and you deserve a great guy. Maybe I am a little bit of a... a sleazeball, a pervert, you know, whatever. But, uh, the thing is, you deserve a guy who can make you happy. And I\\'m just not that guy.\\nHannah: You\\'re not? You\\'re not that guy?\\nJacob: No. I mean, I\\'m not saying that I\\'m that guy. I\\'m just saying that... maybe we could be that guy together.\\n\",\n",
    "\n",
    "\"Mr. Darcy: Miss Elizabeth. I have struggled in vain and I can bear it no longer. These past months have been a torment. I came to Rosings with the single object of seeing you... I had to see you. I have fought against my better judgment, my family\\'s expectations, the inferiority of your birth, my rank and circumstance, all these things that I am willing to put aside and ask you to end my agony.\\nElizabeth: I don\\'t understand.\\nMr. Darcy: I love you. Most ardently. Please do me the honor of accepting my hand.\\n\",\n",
    "\n",
    "\"Tom: What happens if you fall in love?\\nSummer: Well, you don\\'t believe that, do you?\\nTom: It\\'s love, it\\'s not Santa Claus.\\n\",\n",
    "\n",
    "\"Harry: You realize of course that we could never be friends.\\nSally: Why not?\\nHarry: What I\\'m saying is - and this is not a come-on in any way, shape or form - is that men and women can\\'t be friends because the sex part always gets in the way.\\nSally: That\\'s not true. I have a number of men friends and there is no sex involved.\\nHarry: No you don\\'t.\\nSally: Yes I do.\\nHarry: No you don\\'t.\\nSally: Yes I do.\\nHarry: You only think you do.\\n\",\n",
    "\n",
    "\"Peter: I\\'m gonna need that five bucks back.\\nLara Jean: Why? What happened?\\nPeter: I didn\\'t finish.\\nLara Jean: You didn\\'t finish the yogurt?\\nPeter: No, I finished the yogurt.\\nLara Jean: Then what didn\\'t you finish?\\nPeter: This. (leans in for a kiss)\\nIn this conversation, Peter and Lara Jean engage in playful banter, with Peter using the excuse of not finishing his yogurt to lean in for a kiss and express his attraction to Lara Jean.\\n\",\n",
    "\n",
    "\"Harry: You\\'re the worst kind. You\\'re high maintenance, but you think you\\'re low maintenance.\\nSally: I don\\'t see that.\\nHarry: You don\\'t see that? Waiter, I\\'ll begin with a house salad, but I don\\'t want the regular dressing. I\\'ll have the balsamic vinegar and oil, but on the side. And then the salmon with the mustard sauce, but I want the mustard sauce on the side. \\'On the side\\' is a very big thing for you.\\n\\n\",\n",
    "\n",
    "\"Peter: You were never second best.\\nLara Jean: But you were.\\nPeter: Not even close. You were always my first choice.\\n\\n\",\n",
    "\n",
    "\"Andrew: I\\'m gonna need you to stop doing that.\\nMargaret: Doing what?\\nAndrew: Smiling at me like that.\\nMargaret: Like what?\\nAndrew: Like you\\'re not affected by me.\\n\",\n",
    "\n",
    "\"Charlie: I really like you, Sam.\\nSam: Charlie, we can\\'t.\\nCharlie: Why not?\\nSam: Well, first of all, you\\'re sweet and sensitive, and I don\\'t want to hurt your feelings.\\nIn this conversation, Sam gently lets Charlie down by emphasizing their friendship and expressing her desire not to hurt him.\\n\",\n",
    "\n",
    "\"Joey: You know what? You are such a great friend.\\nRachel: Oh no.\\nJoey: No, I mean it. You are my best friend.\\nRachel: Oh, Joey.\\n\\n\",\n",
    "\n",
    "\"Jess: We are just friends.\\nNick: You know what? That\\'s okay. I like being friends.\\nJess: Yeah?\\nNick: Yeah. It\\'s safe. It\\'s comfortable. It\\'s easy.\\n\",\n",
    "\n",
    "\"Chuckie: You\\'re sittin\\' on a winning lottery ticket. You\\'re too much of a pussy to cash it in, and that\\'s bullshit. Cause I\\'d do fuckin\\' anything to have what you got. So would any of these fuckin\\' guys.\\nWill: It\\'s not about that.\\nChuckie: What\\'s it about?\\nWill: I\\'m not afraid to take a swing at a guy if I have to.\\nChuckie: Look, you\\'re my best friend, so don\\'t take this the wrong way. In 20 years, if you\\'re still livin\\' here, comin\\' over to my house to watch the Patriots games, still workin\\' construction, I\\'ll fuckin\\' kill ya. That\\'s not a threat, that\\'s a fact. I\\'ll fuckin\\' kill ya.\\n\",\n",
    "\n",
    "\"Sam: You can\\'t just sit there and put everybody\\'s lives ahead of yours and think that counts as love. You just can\\'t. You have to do things.\\nCharlie: I am doing things. I\\'m being a participator. I\\'m not sitting on the sidelines watching my own life go by.\\nSam: No. You\\'re being a spectator. You\\'re a wallflower. You see things. You keep quiet about them. And you understand.\\nCharlie: I don\\'t want to be a wallflower anymore.\\nSam: Well, then be a freak. Be who you are. You know? Because you\\'re going to be a whole lot happier if you are.\\n\",\n",
    "\n",
    "\"Brian: Dear Mr. Vernon: We accept the fact that we had to sacrifice a whole Saturday in detention for whatever it was we did wrong, but we think you\\'re crazy for making us write an essay telling you who we think we are. You see us as you want to see us - in the simplest terms, in the most convenient definitions. But what we found out is that each one of us is a brain, and an athlete, and a basket case, a princess, and a criminal.\\nClaire: Sincerely yours, the Breakfast Club.\\n\\n\",\n",
    "]\n",
    "\n",
    "\n",
    "labels = [\"flirty\"]*9 + [\"friendzone\"]*6\n",
    "\n",
    "dict_df = {\"converations\" : conversations, \"label\" : labels}"
   ]
  },
  {
   "cell_type": "code",
   "execution_count": 13,
   "metadata": {},
   "outputs": [],
   "source": [
    "import pandas as pd\n",
    "df = pd.DataFrame(dict_df)\n",
    "df.to_csv(\"movies.csv\")"
   ]
  },
  {
   "cell_type": "code",
   "execution_count": 33,
   "metadata": {},
   "outputs": [
    {
     "name": "stdout",
     "output_type": "stream",
     "text": [
      "21\n",
      "20\n",
      "[\"Hey there, just wanted to let you know that you make my heart race every time I see you. Can't wait to see where this goes.\", \"I can't stop thinking about you, and I don't want to. I'm so lucky to have found someone as amazing as you.\", \"I know we're young, but I feel like we have something special. I'm so glad we met and can't wait to see what the future holds.\", \"I never thought I'd find love here, but then I met you. You make everything feel brighter and more exciting.\", \"I don't know what the future holds, but I know I want you in it. You're the most amazing person I've ever met and I'm so lucky to have you.\", 'I know we have a lot going on with school and everything, but I just wanted to take a moment to let you know how much I care about you. You make everything better.', \"I don't know where we'll be after graduation, but I hope we'll still be together. You're the best thing that's ever happened to me.\", \"Hey, what's up? How's your day going?\\nHey, it's going pretty well. Just trying to get some studying done. What about you?\\nSame here. But I couldn't help but text you. You're all I can think about.\\n Aww, that's sweet of you to say. I can't stop thinking about you either.\\nReally? I thought I was the only one.\\n Nope, you're not alone. I've been thinking about you a lot lately. You're so cute and funny.\\nHaha, thanks. I think you're amazing too. I can't believe how lucky I am to have met you.\\n Me neither. I feel like we have a real connection. Do you want to hang out sometime this weekend?\\nDefinitely! I'd love to. How about we grab some coffee and then see where the day takes us?\\n Sounds perfect. Can't wait to see you.\\nMe too. See you soon.\\n\", \"Hey, you. I know you're out there somewhere. I can feel you smiling at me.\\n I am! I can't stop thinking about you. I'm so glad we met.\\n Me too! I feel like I've known you forever. I can't wait to see you again.\\n Me too! I'm counting down the days until I see you again.\\n So am I! I love you.\", \"I can't stop thinking about that smile of yours.\\nOh, really? That's flattering.\\n\", \"You have the most beautiful eyes.\\nAww, thank you! That's so sweet.\\n\", \"I don't think I've ever met anyone quite like you.\\nThat's because I'm one of a kind. ;)\\n\", 'I had a really great time with you the other night.\\nYeah, me too. We should do it again sometime.\\n', \"You're so funny and charming, it's hard not to be drawn to you.\\nHaha, well I'll try to tone down the charm so I don't make you fall too hard.\\n\\n\", 'Hey do you want to go to a poker game with me?\\n ya sure!\\n', \"Hi, I heard you guys are playing poker\\n ya, we just play for fun, not strategy\\n wanna come next time? \\n I'm so down, totally\", \"When are you free, you're so busy all the time?\\n I was in a competition, but I have time now, wanna hang out?\", 'Wanna go to the gym with me?\\n sure!', 'Aww ur so adorable ily <3', \"You're like...really hot\", \"Hey, I just want to be upfront with you and say that I value our friendship a lot and don't want to risk ruining it by pursuing anything more romantic.\", \"I appreciate your interest in me, but I don't think of you in that way. I hope we can continue to be great friends.\", \"You're such an amazing friend, but I don't see us as a romantic match. Let's just stick to being great friends.\", \"I'm flattered by your feelings for me, but I don't feel the same way. I really value our friendship and hope we can continue to hang out as friends.\", \"I think you're an awesome person and a great friend, but I don't feel any romantic chemistry between us. I hope you understand and we can continue to be friends.\", \"I'm sorry, but I don't see us as anything more than friends. I really value our friendship and don't want to risk losing it by pursuing anything romantic.\", \"You're such an important friend to me, but I don't have romantic feelings for you. I hope we can continue to be there for each other as friends.\", \"You're cool but...\", \"I'm down but...\", \"You're cute but...\", \"I'm not interested but...\", \"You're great but...\", \"Let's be friends.\", \"Not much, just hanging out with friends. What's up with you?\\n\\n Nothing much, just thought I'd say hi. What do you like to do for fun?\\n\\n I'm more into hiking and photography. I'm not really into comics or video games.\\n\\n Oh, I see. Well, that's cool. Do you want to hang out sometime?\\n\\n Sorry, I'm not really interested in dating right now.\\n\\n Oh, okay. No problem. I just thought we could be friends or something.\\n\\n Yeah, sure. We can be friends.\\n\\n That's cool. Maybe we could hang out sometime and you could teach me more about hiking and photography.\\n\\n Yeah, that sounds like fun.\\n\\n Okay, cool. Thanks for being understanding.\\n\\n No problem. See you around.\\n\", 'omg this guy is sooooo hot', \"Sorry I'm going out with friends :(\", \"Sorry I'm not looking for a relationship right now, but you're very sweet\", 'I think about you a lot you know \\n aww thanks bestie', \"What are your plans for this weekend? \\n nothing\\n Oh that sounds fun\\n Want to get a drink this weekend?\\n I'm not really a drinker\\n Ok then what do you want to do?\\n go do the movies?\\n get dinner?\\n that came off as rude, what would you like to do? \", \"Hey, what are you up to this weekend?\\n Not sure yet, why?\\n I was thinking we could hang out. Maybe grab dinner and a movie?\\n Oh, I'm actually not sure if that's a good idea.\\n Why not? I thought we had a good time last time we hung out.\\n Yeah, we did. It's just that I don't want to lead you on or anything. I don't think of you in that way.\\n What way?\\n You know, as more than just a friend. I don't want to hurt your feelings or anything.\\n Oh, I see. So you just want to be friends?\\n Yeah, I hope that's okay. I really value our friendship and I don't want to ruin that.\\n Yeah, I understand. But it's okay if you change your mind. I really like you and I think we could be more than just friends.\\n I appreciate that, but I don't want to lead you on. I hope you understand.\\n Yeah, I understand. I just can't help how I feel about you. But I'll try to be respectful of your wishes.\\n Thank you, I appreciate that.\\n\\n\", 'Wanna go to the movies? \\n Sure, can I bring sarah?']\n",
      "{'conversations': [\"Hey there, just wanted to let you know that you make my heart race every time I see you. Can't wait to see where this goes.\", \"I can't stop thinking about you, and I don't want to. I'm so lucky to have found someone as amazing as you.\", \"I know we're young, but I feel like we have something special. I'm so glad we met and can't wait to see what the future holds.\", \"I never thought I'd find love here, but then I met you. You make everything feel brighter and more exciting.\", \"I don't know what the future holds, but I know I want you in it. You're the most amazing person I've ever met and I'm so lucky to have you.\", 'I know we have a lot going on with school and everything, but I just wanted to take a moment to let you know how much I care about you. You make everything better.', \"I don't know where we'll be after graduation, but I hope we'll still be together. You're the best thing that's ever happened to me.\", \"Hey, what's up? How's your day going?\\nHey, it's going pretty well. Just trying to get some studying done. What about you?\\nSame here. But I couldn't help but text you. You're all I can think about.\\n Aww, that's sweet of you to say. I can't stop thinking about you either.\\nReally? I thought I was the only one.\\n Nope, you're not alone. I've been thinking about you a lot lately. You're so cute and funny.\\nHaha, thanks. I think you're amazing too. I can't believe how lucky I am to have met you.\\n Me neither. I feel like we have a real connection. Do you want to hang out sometime this weekend?\\nDefinitely! I'd love to. How about we grab some coffee and then see where the day takes us?\\n Sounds perfect. Can't wait to see you.\\nMe too. See you soon.\\n\", \"Hey, you. I know you're out there somewhere. I can feel you smiling at me.\\n I am! I can't stop thinking about you. I'm so glad we met.\\n Me too! I feel like I've known you forever. I can't wait to see you again.\\n Me too! I'm counting down the days until I see you again.\\n So am I! I love you.\", \"I can't stop thinking about that smile of yours.\\nOh, really? That's flattering.\\n\", \"You have the most beautiful eyes.\\nAww, thank you! That's so sweet.\\n\", \"I don't think I've ever met anyone quite like you.\\nThat's because I'm one of a kind. ;)\\n\", 'I had a really great time with you the other night.\\nYeah, me too. We should do it again sometime.\\n', \"You're so funny and charming, it's hard not to be drawn to you.\\nHaha, well I'll try to tone down the charm so I don't make you fall too hard.\\n\\n\", 'Hey do you want to go to a poker game with me?\\n ya sure!\\n', \"Hi, I heard you guys are playing poker\\n ya, we just play for fun, not strategy\\n wanna come next time? \\n I'm so down, totally\", \"When are you free, you're so busy all the time?\\n I was in a competition, but I have time now, wanna hang out?\", 'Wanna go to the gym with me?\\n sure!', 'Aww ur so adorable ily <3', \"You're like...really hot\", \"Hey, I just want to be upfront with you and say that I value our friendship a lot and don't want to risk ruining it by pursuing anything more romantic.\", \"I appreciate your interest in me, but I don't think of you in that way. I hope we can continue to be great friends.\", \"You're such an amazing friend, but I don't see us as a romantic match. Let's just stick to being great friends.\", \"I'm flattered by your feelings for me, but I don't feel the same way. I really value our friendship and hope we can continue to hang out as friends.\", \"I think you're an awesome person and a great friend, but I don't feel any romantic chemistry between us. I hope you understand and we can continue to be friends.\", \"I'm sorry, but I don't see us as anything more than friends. I really value our friendship and don't want to risk losing it by pursuing anything romantic.\", \"You're such an important friend to me, but I don't have romantic feelings for you. I hope we can continue to be there for each other as friends.\", \"You're cool but...\", \"I'm down but...\", \"You're cute but...\", \"I'm not interested but...\", \"You're great but...\", \"Let's be friends.\", \"Not much, just hanging out with friends. What's up with you?\\n\\n Nothing much, just thought I'd say hi. What do you like to do for fun?\\n\\n I'm more into hiking and photography. I'm not really into comics or video games.\\n\\n Oh, I see. Well, that's cool. Do you want to hang out sometime?\\n\\n Sorry, I'm not really interested in dating right now.\\n\\n Oh, okay. No problem. I just thought we could be friends or something.\\n\\n Yeah, sure. We can be friends.\\n\\n That's cool. Maybe we could hang out sometime and you could teach me more about hiking and photography.\\n\\n Yeah, that sounds like fun.\\n\\n Okay, cool. Thanks for being understanding.\\n\\n No problem. See you around.\\n\", 'omg this guy is sooooo hot', \"Sorry I'm going out with friends :(\", \"Sorry I'm not looking for a relationship right now, but you're very sweet\", 'I think about you a lot you know \\n aww thanks bestie', \"What are your plans for this weekend? \\n nothing\\n Oh that sounds fun\\n Want to get a drink this weekend?\\n I'm not really a drinker\\n Ok then what do you want to do?\\n go do the movies?\\n get dinner?\\n that came off as rude, what would you like to do? \", \"Hey, what are you up to this weekend?\\n Not sure yet, why?\\n I was thinking we could hang out. Maybe grab dinner and a movie?\\n Oh, I'm actually not sure if that's a good idea.\\n Why not? I thought we had a good time last time we hung out.\\n Yeah, we did. It's just that I don't want to lead you on or anything. I don't think of you in that way.\\n What way?\\n You know, as more than just a friend. I don't want to hurt your feelings or anything.\\n Oh, I see. So you just want to be friends?\\n Yeah, I hope that's okay. I really value our friendship and I don't want to ruin that.\\n Yeah, I understand. But it's okay if you change your mind. I really like you and I think we could be more than just friends.\\n I appreciate that, but I don't want to lead you on. I hope you understand.\\n Yeah, I understand. I just can't help how I feel about you. But I'll try to be respectful of your wishes.\\n Thank you, I appreciate that.\\n\\n\", 'Wanna go to the movies? \\n Sure, can I bring sarah?'], 'label': ['flirt', 'flirt', 'flirt', 'flirt', 'flirt', 'flirt', 'flirt', 'flirt', 'flirt', 'flirt', 'flirt', 'flirt', 'flirt', 'flirt', 'flirt', 'flirt', 'flirt', 'flirt', 'flirt', 'flirt', 'friendzone', 'friendzone', 'friendzone', 'friendzone', 'friendzone', 'friendzone', 'friendzone', 'friendzone', 'friendzone', 'friendzone', 'friendzone', 'friendzone', 'friendzone', 'friendzone', 'friendzone', 'friendzone', 'friendzone', 'friendzone', 'friendzone', 'friendzone', 'friendzone']}\n"
     ]
    }
   ],
   "source": [
    "flirty_conversations = [\n",
    "    \"Hey there, just wanted to let you know that you make my heart race every time I see you. Can't wait to see where this goes.\",\n",
    "    \"I can't stop thinking about you, and I don't want to. I'm so lucky to have found someone as amazing as you.\",\n",
    "    \"I know we're young, but I feel like we have something special. I'm so glad we met and can't wait to see what the future holds.\",\n",
    "    \"I never thought I'd find love here, but then I met you. You make everything feel brighter and more exciting.\",\n",
    "    \"I don't know what the future holds, but I know I want you in it. You're the most amazing person I've ever met and I'm so lucky to have you.\",\n",
    "    \"I know we have a lot going on with school and everything, but I just wanted to take a moment to let you know how much I care about you. You make everything better.\",\n",
    "    \"I don't know where we'll be after graduation, but I hope we'll still be together. You're the best thing that's ever happened to me.\",\n",
    "    \"Hey, what\\'s up? How\\'s your day going?\\nHey, it\\'s going pretty well. Just trying to get some studying done. What about you?\\nSame here. But I couldn\\'t help but text you. You\\'re all I can think about.\\n Aww, that\\'s sweet of you to say. I can\\'t stop thinking about you either.\\nReally? I thought I was the only one.\\n Nope, you\\'re not alone. I\\'ve been thinking about you a lot lately. You\\'re so cute and funny.\\nHaha, thanks. I think you\\'re amazing too. I can\\'t believe how lucky I am to have met you.\\n Me neither. I feel like we have a real connection. Do you want to hang out sometime this weekend?\\nDefinitely! I\\'d love to. How about we grab some coffee and then see where the day takes us?\\n Sounds perfect. Can\\'t wait to see you.\\nMe too. See you soon.\\n\",\n",
    "    \"Hey, you. I know you're out there somewhere. I can feel you smiling at me.\\n I am! I can't stop thinking about you. I'm so glad we met.\\n Me too! I feel like I've known you forever. I can't wait to see you again.\\n Me too! I'm counting down the days until I see you again.\\n So am I! I love you.\",\n",
    "    \"I can\\'t stop thinking about that smile of yours.\\nOh, really? That\\'s flattering.\\n\",\n",
    "    \"You have the most beautiful eyes.\\nAww, thank you! That\\'s so sweet.\\n\",\n",
    "    \"I don\\'t think I\\'ve ever met anyone quite like you.\\nThat\\'s because I\\'m one of a kind. ;)\\n\",\n",
    "    \"I had a really great time with you the other night.\\nYeah, me too. We should do it again sometime.\\n\",\n",
    "    \"You\\'re so funny and charming, it\\'s hard not to be drawn to you.\\nHaha, well I\\'ll try to tone down the charm so I don\\'t make you fall too hard.\\n\\n\",\n",
    "    \"Hey do you want to go to a poker game with me?\\n ya sure!\\n\",\n",
    "    \"Hi, I heard you guys are playing poker\\n ya, we just play for fun, not strategy\\n wanna come next time? \\n I'm so down, totally\",\n",
    "    \"When are you free, you're so busy all the time?\\n I was in a competition, but I have time now, wanna hang out?\",\n",
    "    \"Wanna go to the gym with me?\\n sure!\",\n",
    "    \"Aww ur so adorable ily <3\",\n",
    "    \"You're like...really hot\"\n",
    "]\n",
    "\n",
    "friendzones = [\n",
    "    \"Hey, I just want to be upfront with you and say that I value our friendship a lot and don't want to risk ruining it by pursuing anything more romantic.\",\n",
    "\n",
    "    \"I appreciate your interest in me, but I don't think of you in that way. I hope we can continue to be great friends.\",\n",
    "\n",
    "    \"You're such an amazing friend, but I don't see us as a romantic match. Let's just stick to being great friends.\",\n",
    "\n",
    "    \"I'm flattered by your feelings for me, but I don't feel the same way. I really value our friendship and hope we can continue to hang out as friends.\",\n",
    "\n",
    "    \"I think you're an awesome person and a great friend, but I don't feel any romantic chemistry between us. I hope you understand and we can continue to be friends.\",\n",
    "\n",
    "    \"I'm sorry, but I don't see us as anything more than friends. I really value our friendship and don't want to risk losing it by pursuing anything romantic.\",\n",
    "\n",
    "    \"You're such an important friend to me, but I don't have romantic feelings for you. I hope we can continue to be there for each other as friends.\",\n",
    "    \"You\\'re cool but...\", \n",
    "    \"I\\'m down but...\", \"You\\'re cute but...\", \n",
    "    \"I\\'m not interested but...\",\n",
    "    \"You\\'re great but...\",\n",
    "    \"Let\\'s be friends.\",\n",
    "    \"Not much, just hanging out with friends. What\\'s up with you?\\n\\n Nothing much, just thought I\\'d say hi. What do you like to do for fun?\\n\\n I\\'m more into hiking and photography. I\\'m not really into comics or video games.\\n\\n Oh, I see. Well, that\\'s cool. Do you want to hang out sometime?\\n\\n Sorry, I\\'m not really interested in dating right now.\\n\\n Oh, okay. No problem. I just thought we could be friends or something.\\n\\n Yeah, sure. We can be friends.\\n\\n That\\'s cool. Maybe we could hang out sometime and you could teach me more about hiking and photography.\\n\\n Yeah, that sounds like fun.\\n\\n Okay, cool. Thanks for being understanding.\\n\\n No problem. See you around.\\n\",\n",
    "    \"omg this guy is sooooo hot\",\n",
    "    \"Sorry I'm going out with friends :(\",\n",
    "    \"Sorry I'm not looking for a relationship right now, but you're very sweet\",\n",
    "    \"I think about you a lot you know \\n aww thanks bestie\",\n",
    "    \"What are your plans for this weekend? \\n nothing\\n Oh that sounds fun\\n Want to get a drink this weekend?\\n I'm not really a drinker\\n Ok then what do you want to do?\\n go do the movies?\\n get dinner?\\n that came off as rude, what would you like to do? \",\n",
    "    \"Hey, what are you up to this weekend?\\n Not sure yet, why?\\n I was thinking we could hang out. Maybe grab dinner and a movie?\\n Oh, I\\'m actually not sure if that\\'s a good idea.\\n Why not? I thought we had a good time last time we hung out.\\n Yeah, we did. It\\'s just that I don\\'t want to lead you on or anything. I don\\'t think of you in that way.\\n What way?\\n You know, as more than just a friend. I don\\'t want to hurt your feelings or anything.\\n Oh, I see. So you just want to be friends?\\n Yeah, I hope that\\'s okay. I really value our friendship and I don\\'t want to ruin that.\\n Yeah, I understand. But it\\'s okay if you change your mind. I really like you and I think we could be more than just friends.\\n I appreciate that, but I don\\'t want to lead you on. I hope you understand.\\n Yeah, I understand. I just can\\'t help how I feel about you. But I\\'ll try to be respectful of your wishes.\\n Thank you, I appreciate that.\\n\\n\",\n",
    "    \"Wanna go to the movies? \\n Sure, can I bring sarah?\"\n",
    "]\n",
    "print(len(friendzones))\n",
    "print(len(flirty_conversations))\n",
    "\n",
    "labels = [\"flirt\"]*len(flirty_conversations)+ [\"friendzone\"]*len(friendzones)\n",
    "conversations = flirty_conversations + friendzones\n",
    "\n",
    "print(conversations)\n",
    "dict_df = {\"conversations\" : conversations, \"label\" : labels}\n",
    "print(dict_df)\n",
    "df = pd.DataFrame(dict_df)\n",
    "\n",
    "df.to_csv(\"gpt_friendzoning.csv\")"
   ]
  },
  {
   "cell_type": "code",
   "execution_count": null,
   "metadata": {},
   "outputs": [],
   "source": []
  }
 ],
 "metadata": {
  "kernelspec": {
   "display_name": "base",
   "language": "python",
   "name": "python3"
  },
  "language_info": {
   "codemirror_mode": {
    "name": "ipython",
    "version": 3
   },
   "file_extension": ".py",
   "mimetype": "text/x-python",
   "name": "python",
   "nbconvert_exporter": "python",
   "pygments_lexer": "ipython3",
   "version": "3.10.8"
  },
  "orig_nbformat": 4
 },
 "nbformat": 4,
 "nbformat_minor": 2
}
